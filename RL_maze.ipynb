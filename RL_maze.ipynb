{
  "nbformat": 4,
  "nbformat_minor": 0,
  "metadata": {
    "colab": {
      "provenance": [],
      "authorship_tag": "ABX9TyPwmBwmBQKxGFWCJxWzGnTI",
      "include_colab_link": true
    },
    "kernelspec": {
      "name": "python3",
      "display_name": "Python 3"
    },
    "language_info": {
      "name": "python"
    }
  },
  "cells": [
    {
      "cell_type": "markdown",
      "metadata": {
        "id": "view-in-github",
        "colab_type": "text"
      },
      "source": [
        "<a href=\"https://colab.research.google.com/github/Bhavya05shah/RL_maze/blob/main/RL_maze.ipynb\" target=\"_parent\"><img src=\"https://colab.research.google.com/assets/colab-badge.svg\" alt=\"Open In Colab\"/></a>"
      ]
    },
    {
      "cell_type": "code",
      "execution_count": 2,
      "metadata": {
        "id": "z7ckvVxcaS9i"
      },
      "outputs": [],
      "source": [
        "import numpy as np\n",
        "import matplotlib.pyplot as plt\n",
        "import pandas as pd\n",
        "import seaborn as sns\n",
        "import time\n"
      ]
    },
    {
      "cell_type": "code",
      "source": [
        "class Maze:\n",
        "    def __init__(self, maze, start_position, goal_position):\n",
        "        self.maze = maze\n",
        "        self.maze_height = maze_layout.shape[0] # Get the height of the maze (number of rows)\n",
        "        self.maze_width = maze_layout.shape[1]  # Get the width of the maze (number of columns)\n",
        "        self.start_position = start_position    # Set the start position in the maze as a tuple (x, y)\n",
        "        self.goal_position = goal_position      # Set the goal position in the maze as a tuple (x, y)\n",
        "\n",
        "    def show_maze(self):\n",
        "        # Visualizing the maze\n",
        "        plt.figure(figsize=(5,5))\n",
        "        plt.imshow(self.maze, cmap='gray')\n",
        "\n",
        "        # Adding start and goal positions to the maze\n",
        "        plt.text(self.start_position[0], self.start_position[1], 'S', ha='center', va='center', color='red', fontsize=20)\n",
        "        plt.text(self.goal_position[0], self.goal_position[1], 'G', ha='center', va='center', color='green', fontsize=20)\n",
        "\n",
        "        # Removing ticks and labels\n",
        "        plt.xticks([]), plt.yticks([])\n",
        "        plt.show()\n"
      ],
      "metadata": {
        "id": "Xu5xS1afU8sK"
      },
      "execution_count": 9,
      "outputs": []
    },
    {
      "cell_type": "code",
      "source": [
        "# Create any maze layout you'd like, here's an example\n",
        "maze_layout = np.array([\n",
        "    [0, 1, 0, 0, 0],\n",
        "    [0, 1, 1, 1, 0],\n",
        "    [0, 0, 0, 1, 0],\n",
        "    [1, 1, 0, 1, 1],\n",
        "    [0, 0, 0, 0, 0]\n",
        "])\n",
        "\n",
        "# Create an instance of the maze and set the starting and ending positions\n",
        "maze = Maze(maze_layout, (0, 0), (4, 4))\n",
        "# Visualize the maze\n",
        "maze.show_maze()"
      ],
      "metadata": {
        "colab": {
          "base_uri": "https://localhost:8080/",
          "height": 422
        },
        "id": "-KyZLN8LXHyf",
        "outputId": "b3fc8570-32b1-457c-8354-02d7ee34a2bd"
      },
      "execution_count": 10,
      "outputs": [
        {
          "output_type": "display_data",
          "data": {
            "text/plain": [
              "<Figure size 500x500 with 1 Axes>"
            ],
            "image/png": "[encoded data removed]"
          },
          "metadata": {}
        }
      ]
    },
    {
      "cell_type": "code",
      "source": [
        "actions = [(-1, 0), # Up: Moving one step up, reducing the row index by 1\n",
        "          (1, 0),   # Down: Moving on step down, increasing the row index by 1\n",
        "          (0, -1),  # Left: Moving one step to the left, reducing the column index by 1\n",
        "          (0, 1)]   # Right: Moving one step to the right, increasing the column index by 1\n",
        "\n",
        "class QLearningAgent:\n",
        "    def __init__(self, maze, learning_rate=0.1, discount_factor=0.9, exploration_start=1.0, exploration_end=0.01, num_episodes=100):\n",
        "        # Initialize a Q-table containing all zeros\n",
        "        self.q_table = np.zeros((maze.maze_height, maze.maze_width, 4)) # 4 actions: Up, Down, Left, Right\n",
        "        self.learning_rate = learning_rate          # Learning rate controls how much the agent updates its Q-values after each action\n",
        "        self.discount_factor = discount_factor      # Discount factor determines the importance of future rewards in the agent's decisions\n",
        "        self.exploration_start = exploration_start  # Exploration rate determines the likelihood of the agent taking a random action\n",
        "        self.exploration_end = exploration_end\n",
        "        self.num_episodes = num_episodes\n",
        "\n",
        "    def get_exploration_rate(self, current_episode):\n",
        "        # Calculating the current exploration rate\n",
        "        exploration_rate = self.exploration_start * (self.exploration_end / self.exploration_start) ** (current_episode / self.num_episodes)\n",
        "        return exploration_rate\n",
        "\n",
        "    def get_action(self, state, current_episode):\n",
        "        exploration_rate = self.get_exploration_rate(current_episode)\n",
        "        # Select the sate randomly (exploration) or using the Q-table (exploitation)\n",
        "        if np.random.rand() < exploration_rate:\n",
        "            return np.random.randint(4) # Choose a random action\n",
        "        else:\n",
        "            return np.argmax(self.q_table[state]) # State with highest Q value\n",
        "\n",
        "    def update_q_table(self, state, action, next_state, reward):\n",
        "        best_next_action = np.argmax(self.q_table[next_state])\n",
        "        current_q_value = self.q_table[state][action]\n",
        "\n",
        "        # Q-value updated\n",
        "        new_q_value = current_q_value + self.learning_rate * (reward + self.discount_factor * self.q_table[next_state][best_next_action] - current_q_value)\n",
        "        self.q_table[state][action] = new_q_value\n"
      ],
      "metadata": {
        "id": "eweypSegXKC9"
      },
      "execution_count": 11,
      "outputs": []
    },
    {
      "cell_type": "code",
      "source": [
        "#Here the reward system has been defined by its reward,penalty(which is of two types)\n",
        "goal_reward = 100\n",
        "wall_penalty = -10\n",
        "step_penalty = -1"
      ],
      "metadata": {
        "id": "Fm4deXqTXdR1"
      },
      "execution_count": 12,
      "outputs": []
    },
    {
      "cell_type": "code",
      "source": [
        "#For a single episode.\n",
        "\n",
        "def finish_episode(agent, maze, current_episode, train=True):\n",
        "    # Initialize the agent's current state to the maze's start position\n",
        "    current_state = maze.start_position\n",
        "    is_done = False\n",
        "    episode_reward = 0\n",
        "    episode_step = 0\n",
        "    path = [current_state]\n",
        "\n",
        "    # Loop of episodes\n",
        "    while not is_done:\n",
        "        action = agent.get_action(current_state, current_episode)\n",
        "        next_state = (current_state[0] + actions[action][0], current_state[1] + actions[action][1])\n",
        "\n",
        "        # Checking if the next state is out of bounds or hitting a wall\n",
        "        if next_state[0] < 0 or next_state[0] >= maze.maze_height or next_state[1] < 0 or next_state[1] >= maze.maze_width or maze.maze[next_state[1]][next_state[0]] == 1:\n",
        "            reward = wall_penalty\n",
        "            next_state = current_state\n",
        "        # Checking if the agent has reached its goal:\n",
        "        elif next_state == (maze.goal_position):\n",
        "            path.append(current_state)\n",
        "            reward = goal_reward\n",
        "            is_done = True\n",
        "        # The agent takes a step but hasn't reached the goal yet\n",
        "        else:\n",
        "            path.append(current_state)\n",
        "            reward = step_penalty\n",
        "\n",
        "        # Update the cumulative reward and step count for that episode\n",
        "        episode_reward += reward\n",
        "        episode_step += 1\n",
        "\n",
        "        # Update the agent's Q-table\n",
        "        if train == True:\n",
        "            agent.update_q_table(current_state, action, next_state, reward)\n",
        "        current_state = next_state\n",
        "\n",
        "    return episode_reward, episode_step, path\n"
      ],
      "metadata": {
        "id": "SpQSjb4LXhw9"
      },
      "execution_count": 13,
      "outputs": []
    },
    {
      "cell_type": "code",
      "source": [],
      "metadata": {
        "id": "XVlceKJqXo7f"
      },
      "execution_count": null,
      "outputs": []
    }
  ]
}